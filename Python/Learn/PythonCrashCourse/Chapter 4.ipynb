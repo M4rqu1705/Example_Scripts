{
 "cells": [
  {
   "cell_type": "markdown",
   "metadata": {},
   "source": [
    "# Chapter 4: Working With Lists"
   ]
  },
  {
   "cell_type": "markdown",
   "metadata": {},
   "source": [
    "## For loop\n",
    "In the specific case of lists, a **`for`** loop runs through all the entries in a list and performs the same task with each of these items.\n",
    "\n",
    "```python\n",
    "magicians = ['alice', 'david', 'carolina']\n",
    "for magician in magicians:\n",
    "    print(magician.title())\n",
    "```\n",
    "  - Looping is the most common way a computer automates repetitive tasks. In the `for` loop's case, the loop retrieves an item from the list and then executes the code inside it.\n",
    "    + The indented code below a `for` loop is considered *inside*  the loop\n",
    "    + Many times the `for` loop executes statements that use a value of a list (in the case above represented by the variable `magician`) retrieved sequentially, in the order they appear(in the case above, from the list `magicians`) \n",
    "    + Once inside the loop, the retrieved value can be manipulated\n",
    "      * The retrieved value does not point to the original list. If it is modified, once the loop is over, this change will be lost unless stored\n",
    "  - Any lines of code after and outside a `for` loop are excecuted 'normally'. The for loop was exited and will only run once\n",
    "    +  When a line of code below the `for` loop is not indented, the line is *outside*  the loop\n",
    "    \n",
    "    ```python\n",
    "my_list = [0,1,2,3,4,5,6,7,8,9]\n",
    "for number in my_list:\n",
    "    my_list.remove(number)\n",
    "    print(my_list)\n",
    "    ```\n",
    "\n",
    "\n",
    " ---\n",
    " ### Indentation Errors\n",
    " "
   ]
  },
  {
   "cell_type": "code",
   "execution_count": 33,
   "metadata": {},
   "outputs": [
    {
     "name": "stdout",
     "output_type": "stream",
     "text": [
      "2\t4\t6\t8\t10\t\n",
      "4\t6\t8\t10\t2\t\n",
      "6\t8\t10\t2\t4\t\n",
      "8\t10\t2\t4\t6\t\n",
      "10\t2\t4\t6\t8\t\n"
     ]
    }
   ],
   "source": [
    "my_list = [2,4,6,8,10]\n",
    "\n",
    "for number in my_list[:]:\n",
    "    for element in my_list:\n",
    "        print(str(element) + \"\\t\" , end='')\n",
    "    print()\n",
    "    temp = my_list.pop(0)\n",
    "    my_list.append(temp)\n",
    "    "
   ]
  }
 ],
 "metadata": {
  "kernelspec": {
   "display_name": "Python 3",
   "language": "python",
   "name": "python3"
  },
  "language_info": {
   "codemirror_mode": {
    "name": "ipython",
    "version": 3
   },
   "file_extension": ".py",
   "mimetype": "text/x-python",
   "name": "python",
   "nbconvert_exporter": "python",
   "pygments_lexer": "ipython3",
   "version": "3.6.5"
  }
 },
 "nbformat": 4,
 "nbformat_minor": 2
}
